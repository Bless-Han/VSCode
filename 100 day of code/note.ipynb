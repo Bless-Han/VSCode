{
 "cells": [
  {
   "cell_type": "code",
   "execution_count": 13,
   "metadata": {},
   "outputs": [
    {
     "name": "stdout",
     "output_type": "stream",
     "text": [
      "<class 'int'>\n",
      "2.67\n"
     ]
    }
   ],
   "source": [
    "# Check the type of variable\n",
    "type(123)\n",
    "\n",
    "# Type changing\n",
    "str(123)\n",
    "float(123)\n",
    "int(\"22\")\n",
    "bool(\"True\")\n",
    "\n",
    "# math function, round\n",
    "round(8 / 3, 2)\n",
    "\n",
    "# f-String\n",
    "age = 18\n",
    "print(f\"You are {age}\")"
   ]
  },
  {
   "cell_type": "code",
   "execution_count": 10,
   "metadata": {},
   "outputs": [
    {
     "name": "stdout",
     "output_type": "stream",
     "text": [
      "<class 'bool'>\n"
     ]
    }
   ],
   "source": [
    "print(type(bool(\"True\")))\n"
   ]
  }
 ],
 "metadata": {
  "kernelspec": {
   "display_name": ".venv",
   "language": "python",
   "name": "python3"
  },
  "language_info": {
   "codemirror_mode": {
    "name": "ipython",
    "version": 3
   },
   "file_extension": ".py",
   "mimetype": "text/x-python",
   "name": "python",
   "nbconvert_exporter": "python",
   "pygments_lexer": "ipython3",
   "version": "3.11.1"
  },
  "orig_nbformat": 4,
  "vscode": {
   "interpreter": {
    "hash": "0778c7ffc14fe3c06eb7642a60295e45e47905d360c0cf861b552f77c4edb515"
   }
  }
 },
 "nbformat": 4,
 "nbformat_minor": 2
}
